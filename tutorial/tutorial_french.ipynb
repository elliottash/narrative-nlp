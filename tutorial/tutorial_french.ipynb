{
 "cells": [
  {
   "attachments": {},
   "cell_type": "markdown",
   "id": "10bb6bdd",
   "metadata": {},
   "source": [
    "# An introduction to `relatio` \n",
    "**Runtime $\\sim$ 20min**\n",
    "\n",
    "Original paper: [\"Text Semantics Capture Political and Economic Narratives\"](https://arxiv.org/abs/2108.01720)\n",
    "\n",
    "----------------------------\n",
    "\n",
    "This is a short demo of the package `relatio`.  It takes as input a text corpus and outputs a list of narrative statements. The pipeline is unsupervised: the user does not need to specify narratives beforehand. Narrative statements are defined as tuples of semantic roles with a (agent, verb, patient, attribute) structure. \n",
    "\n",
    "Here, we present the main wrapper functions to quickly obtain narrative statements from a corpus.\n",
    "\n",
    "----------------------------\n",
    "\n",
    "In this tutorial, we work with tweets from candidates at the French Presidential Elections (2022).\n",
    "\n",
    "----------------------------"
   ]
  },
  {
   "cell_type": "code",
   "execution_count": null,
   "id": "17886d5f",
   "metadata": {
    "scrolled": true
   },
   "outputs": [],
   "source": [
    "# Catch warnings for an easy ride\n",
    "from relatio import FileLogger\n",
    "logger = FileLogger(level = 'WARNING')"
   ]
  },
  {
   "cell_type": "code",
   "execution_count": null,
   "id": "d8ed6668",
   "metadata": {
    "scrolled": true
   },
   "outputs": [],
   "source": [
    "from relatio import list_data\n",
    "list_data()"
   ]
  },
  {
   "cell_type": "code",
   "execution_count": null,
   "id": "f8c8fa04",
   "metadata": {},
   "outputs": [],
   "source": [
    "from relatio import load_data\n",
    "df = load_data(dataset = \"tweets_candidates_french_elections\", content = \"raw\")\n",
    "df = df[df['candidate'] == 'yjadot']\n",
    "df.head()"
   ]
  },
  {
   "cell_type": "code",
   "execution_count": null,
   "id": "fb97e000",
   "metadata": {
    "scrolled": true
   },
   "outputs": [],
   "source": [
    "from relatio import Preprocessor\n",
    "\n",
    "import string\n",
    "alphabet_string = string.ascii_lowercase\n",
    "alphabet_list = list(alphabet_string) + ['rt']\n",
    "\n",
    "p = Preprocessor(\n",
    "    spacy_model = \"fr_core_news_sm\",\n",
    "    remove_punctuation = True,\n",
    "    remove_digits = True,\n",
    "    lowercase = True,\n",
    "    lemmatize = True,\n",
    "    remove_chars = [\"\\\"\",'-',\"^\",\".\",\"?\",\"!\",\";\",\"(\",\")\",\",\",\":\",\"\\'\",\"+\",\"&\",\"|\",\"/\",\"{\",\"}\",\n",
    "                    \"~\",\"_\",\"`\",\"[\",\"]\",\">\",\"<\",\"=\",\"*\",\"%\",\"$\",\"@\",\"#\",\"’\"],\n",
    "    stop_words = alphabet_list,\n",
    "    n_process = -1,\n",
    "    batch_size = 100\n",
    ")\n",
    "\n",
    "df = p.split_into_sentences(\n",
    "    df, output_path = None, progress_bar = True\n",
    ")"
   ]
  },
  {
   "cell_type": "code",
   "execution_count": null,
   "id": "a7380076",
   "metadata": {},
   "outputs": [],
   "source": [
    "sentence_index, roles = p.extract_svos(df['sentence'], progress_bar = True)\n",
    "\n",
    "for svo in roles[0:20]: print(svo)"
   ]
  },
  {
   "cell_type": "code",
   "execution_count": null,
   "id": "478392f3",
   "metadata": {},
   "outputs": [],
   "source": [
    "postproc_roles = p.process_roles(roles, \n",
    "                                 max_length = 50,\n",
    "                                 progress_bar = True,\n",
    "                                 output_path = './output/postproc_roles.json')\n",
    "\n",
    "from relatio.utils import load_roles\n",
    "postproc_roles = load_roles('./output/postproc_roles.json')\n",
    "\n",
    "for d in postproc_roles[0:5]: print(d)"
   ]
  },
  {
   "cell_type": "code",
   "execution_count": null,
   "id": "2e627dfa",
   "metadata": {},
   "outputs": [],
   "source": [
    "known_entities = p.mine_entities(\n",
    "    df['sentence'], \n",
    "    clean_entities = True, \n",
    "    progress_bar = True,\n",
    "    output_path = './output/entities.pkl'\n",
    ")\n",
    "\n",
    "from relatio.utils import load_entities\n",
    "known_entities = load_entities('./output/entities.pkl')\n",
    "\n",
    "for n in known_entities.most_common(10): print(n)"
   ]
  },
  {
   "cell_type": "code",
   "execution_count": null,
   "id": "8ad2f93b",
   "metadata": {},
   "outputs": [],
   "source": [
    "top_known_entities = [e[0] for e in list(known_entities.most_common(100)) if e[0] != '']"
   ]
  },
  {
   "cell_type": "code",
   "execution_count": null,
   "id": "d27cb731",
   "metadata": {},
   "outputs": [],
   "source": [
    "from relatio import Embeddings\n",
    "nlp_model = Embeddings(\"spaCy\", \"fr_core_news_sm\", sentences=df['sentence']) "
   ]
  },
  {
   "cell_type": "code",
   "execution_count": null,
   "id": "26ae5c97",
   "metadata": {},
   "outputs": [],
   "source": [
    "from relatio import NarrativeModel\n",
    "from relatio.utils import prettify\n",
    "from collections import Counter"
   ]
  },
  {
   "cell_type": "code",
   "execution_count": null,
   "id": "2415ab84",
   "metadata": {},
   "outputs": [],
   "source": [
    "m1 = NarrativeModel(clustering = 'hdbscan',\n",
    "                    PCA = False,\n",
    "                    UMAP = False,\n",
    "                    roles_considered = ['ARG0', 'B-V', 'B-ARGM-NEG', 'ARG1'],\n",
    "                    roles_with_known_entities = ['ARG0','ARG1'],\n",
    "                    known_entities = top_known_entities,\n",
    "                    assignment_to_known_entities = 'character_matching',\n",
    "                    roles_with_unknown_entities = ['ARG0','ARG1'],\n",
    "                    embeddings_model = nlp_model,\n",
    "                    threshold = 0.3)    \n",
    "\n",
    "m1.fit(postproc_roles, weight_by_frequency = True)"
   ]
  },
  {
   "cell_type": "code",
   "execution_count": null,
   "id": "5d459f9e",
   "metadata": {},
   "outputs": [],
   "source": [
    "narratives = m1.predict(postproc_roles, progress_bar = True)"
   ]
  },
  {
   "cell_type": "code",
   "execution_count": null,
   "id": "24a111d6",
   "metadata": {},
   "outputs": [],
   "source": [
    "from relatio.utils import prettify\n",
    "\n",
    "pretty_narratives = []\n",
    "for n in narratives: \n",
    "    pretty_narratives.append(prettify(n))\n",
    "\n",
    "for i in range(10):           \n",
    "    print(roles[i])\n",
    "    print(postproc_roles[i])\n",
    "    print(pretty_narratives[i])"
   ]
  },
  {
   "cell_type": "code",
   "execution_count": null,
   "id": "092774aa",
   "metadata": {},
   "outputs": [],
   "source": [
    "m2 = NarrativeModel(clustering = 'kmeans',\n",
    "                    PCA = True,\n",
    "                    UMAP = True,\n",
    "                    roles_considered = ['ARG0', 'B-V', 'B-ARGM-NEG', 'ARG1'],\n",
    "                    roles_with_known_entities = ['ARG0','ARG1'],\n",
    "                    known_entities = top_known_entities,\n",
    "                    assignment_to_known_entities = 'character_matching',\n",
    "                    roles_with_unknown_entities = ['ARG0','ARG1'],\n",
    "                    embeddings_model = nlp_model,\n",
    "                    threshold = 0.3)    \n",
    "\n",
    "m2.fit(postproc_roles, weight_by_frequency = True, progress_bar = True)"
   ]
  },
  {
   "cell_type": "code",
   "execution_count": null,
   "id": "fb38e4e1",
   "metadata": {},
   "outputs": [],
   "source": [
    "narratives = m2.predict(postproc_roles, progress_bar = True)"
   ]
  },
  {
   "cell_type": "code",
   "execution_count": null,
   "id": "87819247",
   "metadata": {},
   "outputs": [],
   "source": [
    "from relatio.utils import prettify\n",
    "\n",
    "pretty_narratives = []\n",
    "for n in narratives: \n",
    "    pretty_narratives.append(prettify(n))\n",
    "\n",
    "for i in range(10):           \n",
    "    print(roles[i])\n",
    "    print(postproc_roles[i])\n",
    "    print(pretty_narratives[i])"
   ]
  },
  {
   "cell_type": "code",
   "execution_count": null,
   "id": "7139e6d6",
   "metadata": {},
   "outputs": [],
   "source": [
    "from relatio import build_graph, draw_graph\n",
    "\n",
    "G = build_graph(\n",
    "    narratives, \n",
    "    top_n = 100, \n",
    "    prune_network = True\n",
    ")\n",
    "\n",
    "draw_graph(\n",
    "    G,\n",
    "    notebook = True,\n",
    "    show_buttons = False,\n",
    "    width=\"1600px\",\n",
    "    height=\"1000px\",\n",
    "    output_filename = './output/network_of_narratives.html'\n",
    "    )"
   ]
  }
 ],
 "metadata": {
  "kernelspec": {
   "display_name": "Python 3 (ipykernel)",
   "language": "python",
   "name": "python3"
  },
  "language_info": {
   "codemirror_mode": {
    "name": "ipython",
    "version": 3
   },
   "file_extension": ".py",
   "mimetype": "text/x-python",
   "name": "python",
   "nbconvert_exporter": "python",
   "pygments_lexer": "ipython3",
   "version": "3.7.15"
  }
 },
 "nbformat": 4,
 "nbformat_minor": 5
}
