{
 "cells": [
  {
   "cell_type": "markdown",
   "id": "d585b739",
   "metadata": {},
   "source": [
    "# An introduction to `relatio` \n",
    "**Runtime $\\sim$ 20min**\n",
    "\n",
    "Original paper: [\"Text Semantics Capture Political and Economic Narratives\"](https://arxiv.org/abs/2108.01720)\n",
    "\n",
    "----------------------------\n",
    "\n",
    "This is a short demo of the package `relatio`.  It takes as input a text corpus and outputs a list of narrative statements. The pipeline is unsupervised: the user does not need to specify narratives beforehand. Narrative statements are defined as tuples of semantic roles with a (agent, verb, patient) structure. \n",
    "\n",
    "Here, we present the main functions to quickly obtain narrative statements from a corpus.\n",
    "\n",
    "----------------------------\n",
    "\n",
    "In this tutorial, we work with the Trump Tweet Archive corpus.\n",
    "\n",
    "----------------------------"
   ]
  },
  {
   "cell_type": "code",
   "execution_count": null,
   "id": "50c58fa5",
   "metadata": {},
   "outputs": [],
   "source": [
    "# Catch warnings for an easy ride\n",
    "from relatio import FileLogger\n",
    "logger = FileLogger(level = 'WARNING')"
   ]
  },
  {
   "cell_type": "code",
   "execution_count": null,
   "id": "90059add",
   "metadata": {},
   "outputs": [],
   "source": [
    "from relatio import load_data\n",
    "df = load_data(dataset = \"trump_tweet_archive\", content = \"raw\")"
   ]
  },
  {
   "cell_type": "code",
   "execution_count": null,
   "id": "b8f7b806",
   "metadata": {},
   "outputs": [],
   "source": [
    "from relatio import Preprocessor\n",
    "\n",
    "p = Preprocessor(\n",
    "    spacy_model = \"en_core_web_sm\",\n",
    "    remove_punctuation = True,\n",
    "    remove_digits = True,\n",
    "    lowercase = True,\n",
    "    lemmatize = True,\n",
    "    remove_chars = [\"\\\"\",'-',\"^\",\".\",\"?\",\"!\",\";\",\"(\",\")\",\",\",\":\",\"\\'\",\"+\",\"&\",\"|\",\"/\",\"{\",\"}\",\n",
    "                    \"~\",\"_\",\"`\",\"[\",\"]\",\">\",\"<\",\"=\",\"*\",\"%\",\"$\",\"@\",\"#\",\"’\"],\n",
    "    stop_words = [],\n",
    "    n_process = -1,\n",
    "    batch_size = 100\n",
    ")"
   ]
  },
  {
   "cell_type": "code",
   "execution_count": null,
   "id": "68c4449e",
   "metadata": {},
   "outputs": [],
   "source": [
    "df = p.split_into_sentences(\n",
    "    df, output_path = None, progress_bar = True\n",
    ")"
   ]
  },
  {
   "cell_type": "code",
   "execution_count": null,
   "id": "1bd7bf8d",
   "metadata": {},
   "outputs": [],
   "source": [
    "from relatio import SRL\n",
    "\n",
    "SRL = SRL(\n",
    "    path = \"https://storage.googleapis.com/allennlp-public-models/openie-model.2020.03.26.tar.gz\",\n",
    "    batch_size = 10,\n",
    "    cuda_device = -1\n",
    ")\n",
    "\n",
    "srl_res = SRL(df['sentence'][0:1000], progress_bar=True)\n",
    "\n",
    "from relatio import extract_roles\n",
    "\n",
    "roles, sentence_index = extract_roles(\n",
    "    srl_res, \n",
    "    used_roles = [\"ARG0\",\"B-V\",\"B-ARGM-NEG\",\"B-ARGM-MOD\",\"ARG1\",\"ARG2\"],\n",
    "    only_triplets = True,\n",
    "    progress_bar = True\n",
    ")\n",
    "\n",
    "for d in roles[0:20]: print(d)"
   ]
  },
  {
   "cell_type": "code",
   "execution_count": null,
   "id": "b07a1b80",
   "metadata": {},
   "outputs": [],
   "source": [
    "sentence_index, roles = p.extract_svos(df['sentence'], expand_nouns = True, only_triplets = False, progress_bar = True) \n",
    "for svo in roles[0:20]: print(svo)"
   ]
  },
  {
   "cell_type": "code",
   "execution_count": null,
   "id": "aaed9e7d",
   "metadata": {},
   "outputs": [],
   "source": [
    "postproc_roles = p.process_roles(roles, \n",
    "                                 max_length = 50,\n",
    "                                 progress_bar = True,\n",
    "                                 output_path = './output/postproc_roles.json')"
   ]
  },
  {
   "cell_type": "code",
   "execution_count": null,
   "id": "d8809573",
   "metadata": {},
   "outputs": [],
   "source": [
    "for d in postproc_roles[0:20]: print(d)"
   ]
  },
  {
   "cell_type": "code",
   "execution_count": null,
   "id": "691b9eed",
   "metadata": {},
   "outputs": [],
   "source": [
    "from relatio.utils import load_roles\n",
    "postproc_roles = load_roles('./output/postproc_roles.json')"
   ]
  },
  {
   "cell_type": "code",
   "execution_count": null,
   "id": "ba2918f4",
   "metadata": {},
   "outputs": [],
   "source": [
    "known_entities = p.mine_entities(\n",
    "    df['sentence'], \n",
    "    clean_entities = True, \n",
    "    progress_bar = True,\n",
    "    output_path = './output/entities.pkl'\n",
    ")\n",
    "\n",
    "for n in known_entities.most_common(10): print(n)"
   ]
  },
  {
   "cell_type": "code",
   "execution_count": null,
   "id": "26666867",
   "metadata": {},
   "outputs": [],
   "source": [
    "from relatio.utils import load_entities\n",
    "known_entities = load_entities('./output/entities.pkl')\n",
    "\n",
    "top_known_entities = [e[0] for e in list(known_entities.most_common(100)) if e[0] != '']"
   ]
  },
  {
   "cell_type": "code",
   "execution_count": null,
   "id": "a1a2fe84",
   "metadata": {
    "scrolled": true
   },
   "outputs": [],
   "source": [
    "from relatio.narrative_models import NarrativeModel\n",
    "\n",
    "m = NarrativeModel(\n",
    "    clustering = 'kmeans',\n",
    "    PCA = True,\n",
    "    UMAP = True,\n",
    "    roles_considered = ['ARG0', 'B-V', 'B-ARGM-NEG', 'ARG1'],\n",
    "    roles_with_known_entities = ['ARG0','ARG1'],\n",
    "    known_entities = top_known_entities,\n",
    "    assignment_to_known_entities = 'embeddings',\n",
    "    roles_with_unknown_entities = ['ARG0','ARG1'],\n",
    "    threshold = 0.1\n",
    ")    \n",
    "             \n",
    "m.fit(postproc_roles, progress_bar = True) "
   ]
  },
  {
   "cell_type": "code",
   "execution_count": null,
   "id": "1c0fca17",
   "metadata": {},
   "outputs": [],
   "source": [
    "m.plot_selection_metric(metric = 'inertia') "
   ]
  },
  {
   "cell_type": "code",
   "execution_count": null,
   "id": "91770832",
   "metadata": {},
   "outputs": [],
   "source": [
    "m.plot_clusters(path = './output/clusters.pdf') "
   ]
  },
  {
   "cell_type": "code",
   "execution_count": null,
   "id": "7993e3ce",
   "metadata": {},
   "outputs": [],
   "source": [
    "m.clusters_to_txt(path = './output/clusters.txt')"
   ]
  },
  {
   "cell_type": "code",
   "execution_count": null,
   "id": "f1298643",
   "metadata": {},
   "outputs": [],
   "source": [
    "narratives = m.predict(postproc_roles, progress_bar = True)"
   ]
  },
  {
   "cell_type": "code",
   "execution_count": null,
   "id": "0b7dbeb3",
   "metadata": {},
   "outputs": [],
   "source": [
    "from relatio.utils import prettify\n",
    "\n",
    "pretty_narratives = []\n",
    "for n in narratives: \n",
    "    pretty_narratives.append(prettify(n))\n",
    "\n",
    "for i in range(10):           \n",
    "    print(roles[i])\n",
    "    print(postproc_roles[i])\n",
    "    print(pretty_narratives[i])"
   ]
  },
  {
   "cell_type": "code",
   "execution_count": null,
   "id": "1e38e7a8",
   "metadata": {},
   "outputs": [],
   "source": [
    "from relatio import build_graph, draw_graph\n",
    "\n",
    "G = build_graph(\n",
    "    narratives, \n",
    "    top_n = 100, \n",
    "    prune_network = True\n",
    ")\n",
    "\n",
    "draw_graph(\n",
    "    G,\n",
    "    notebook = True,\n",
    "    show_buttons = False,\n",
    "    width=\"1600px\",\n",
    "    height=\"1000px\",\n",
    "    output_filename = './output/network_of_narratives.html'\n",
    "    )"
   ]
  },
  {
   "cell_type": "code",
   "execution_count": null,
   "id": "ddb9e8c3",
   "metadata": {},
   "outputs": [],
   "source": [
    "import pickle as pk \n",
    "\n",
    "with open('./output/narrative_model.pkl','wb') as f:\n",
    "    pk.dump(m,f)"
   ]
  },
  {
   "cell_type": "code",
   "execution_count": null,
   "id": "2f60cad2",
   "metadata": {},
   "outputs": [],
   "source": [
    "with open('./output/narrative_model.pkl','rb') as f:\n",
    "    m = pk.load(f)"
   ]
  }
 ],
 "metadata": {
  "kernelspec": {
   "display_name": "Python 3 (ipykernel)",
   "language": "python",
   "name": "python3"
  },
  "language_info": {
   "codemirror_mode": {
    "name": "ipython",
    "version": 3
   },
   "file_extension": ".py",
   "mimetype": "text/x-python",
   "name": "python",
   "nbconvert_exporter": "python",
   "pygments_lexer": "ipython3",
   "version": "3.7.15"
  }
 },
 "nbformat": 4,
 "nbformat_minor": 5
}
