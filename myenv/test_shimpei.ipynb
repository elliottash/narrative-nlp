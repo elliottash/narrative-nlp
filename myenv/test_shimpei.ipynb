{
 "cells": [
  {
   "cell_type": "markdown",
   "metadata": {},
   "source": [
    "## for coreference resolution"
   ]
  },
  {
   "cell_type": "code",
   "execution_count": null,
   "metadata": {},
   "outputs": [],
   "source": [
    "!pip install -U tensorflow-text==2.10.0"
   ]
  },
  {
   "cell_type": "code",
   "execution_count": null,
   "metadata": {},
   "outputs": [],
   "source": [
    "import tensorflow_hub as hub\n",
    "import numpy as np\n",
    "import tensorflow_text\n",
    "\n",
    "english_sentences = [\"dog\", \"Puppies are nice.\", \"I enjoy taking long walks along the beach with my dog.\"]\n",
    "italian_sentences = [\"cane\", \"I cuccioli sono carini.\", \"Mi piace fare lunghe passeggiate lungo la spiaggia con il mio cane.\"]\n",
    "japanese_sentences = [\"犬\", \"子犬はいいです\", \"私は犬と一緒にビーチを散歩するのが好きです\"]"
   ]
  },
  {
   "cell_type": "code",
   "execution_count": null,
   "metadata": {},
   "outputs": [],
   "source": [
    "url = \"https://tfhub.dev/google/universal-sentence-encoder-multilingual/3\"\n",
    "embed = hub.load(url)\n",
    "\n",
    "# 埋め込みの計算\n",
    "en_result = embed(english_sentences)\n",
    "it_result = embed(italian_sentences)\n",
    "ja_result = embed(japanese_sentences)"
   ]
  },
  {
   "cell_type": "code",
   "execution_count": null,
   "metadata": {},
   "outputs": [],
   "source": [
    "!pip install https://github.com/explosion/spacy-experimental/releases/download/v0.6.1/en_coreference_web_trf-3.4.0a2-py3-none-any.whl\n",
    "!pip show en_coreference_web_trf"
   ]
  },
  {
   "cell_type": "code",
   "execution_count": 7,
   "metadata": {},
   "outputs": [
    {
     "name": "stdout",
     "output_type": "stream",
     "text": [
      "=== full clusters ===\n",
      "[John Smith, he]\n",
      "he\n",
      "he\n",
      " \n",
      "33\n",
      "[New York, the city]\n",
      "the city\n",
      "the\n",
      " \n",
      "57\n"
     ]
    }
   ],
   "source": [
    "import spacy\n",
    "nlp = spacy.load(\"en_coreference_web_trf\")\n",
    "doc = nlp(\"John Smith called from New York, he says it's raining in the city.\")\n",
    "# print(\"=== word clusters ===\")\n",
    "# word_clusters = [val for key, val in doc.spans.items() if key.startswith(\"coref_head\")]\n",
    "# for cluster in word_clusters:\n",
    "#     print(cluster)\n",
    "# check the expanded clusters\n",
    "print(\"=== full clusters ===\")\n",
    "full_clusters = [val for key, val in doc.spans.items() if key.startswith(\"coref_cluster\")]\n",
    "for cluster in full_clusters:\n",
    "    print(cluster)\n",
    "    first_span = cluster[0]\n",
    "    for mention_span in list(cluster)[1:]:\n",
    "        print(mention_span)\n",
    "        print(mention_span[0])\n",
    "        print(mention_span[0].whitespace_)\n",
    "        print(mention_span[0].idx)\n",
    "\n",
    "    "
   ]
  },
  {
   "cell_type": "code",
   "execution_count": null,
   "metadata": {},
   "outputs": [],
   "source": [
    "def coreference_resolution(\n",
    "        sentences,\n",
    "        progress_bar= False,\n",
    "    ) :\n",
    "        \"\"\"\n",
    "        coreference resolution using spaCy (v0.6.1)\n",
    "        Args:\n",
    "                sentences: list of sentences\n",
    "                progress_bar: print a progress bar (default is False)\n",
    "                model_url: set the url model\n",
    "        Returns:\n",
    "            List of processed statements\n",
    "        \"\"\"\n",
    "        try:\n",
    "            import spacy\n",
    "\n",
    "            nlp = spacy.load(\"en_coreference_web_trf\")\n",
    "\n",
    "        except ModuleNotFoundError:\n",
    "            print(\"Please install spacy\")\n",
    "            raise\n",
    "        except OSError:\n",
    "            print(\"Please download 'en_coreference_web_tf' pipeline\")\n",
    "            raise\n",
    "\n",
    "        def resolve_references(doc) -> str:\n",
    "            token_mention_dict = {}\n",
    "            output_string = \"\"\n",
    "            clusters = [val for key, val in doc.spans.items() if key.startswith(\"coref_clusters\")]\n",
    "            for cluster in clusters:\n",
    "                first_span = cluster[0]\n",
    "                for mention_span in list(cluster)[1:]:\n",
    "                    token_mention_dict[mention_span[0].idx] = first_span.text + mention_span[0].whitespace_\n",
    "                    for token in mention_span[1:]:\n",
    "                        token_mention_dict[token.idx] = \"\"\n",
    "            for token in doc:\n",
    "                if token.idx in token_mention_dict:\n",
    "                    output_string += token_mention_dict[token.idx]\n",
    "                else:\n",
    "                    output_string += token.text + token.whitespace_\n",
    "            return output_string\n",
    "\n",
    "        if progress_bar:\n",
    "            disable = False\n",
    "        else:\n",
    "            disable = True\n",
    "        print(\"resolving reference with coref output ...\")\n",
    "        coreference_output_list = []\n",
    "        for sentence in tqdm(sentences, disable=disable):\n",
    "            doc = nlp(sentence)\n",
    "            coreference_output_list.append(resolve_references(doc))\n",
    "\n",
    "        return coreference_output_list\n",
    "\n",
    "from ast import literal_eval\n",
    "from io import StringIO\n",
    "\n",
    "import pandas as pd\n",
    "import requests\n",
    "\n",
    "\n",
    "def list_datasets():\n",
    "    s = \"\"\"\n",
    "    List of available datasets:\n",
    "    Trump Tweet Archive\n",
    "    - function call: load_trump_data()\n",
    "    - format: 'raw', 'split_sentences', 'srl_res'\n",
    "    - allennlp version: 0.9\n",
    "    - srl model: srl-model-2018.05.25.tar.gz\n",
    "    \"\"\"\n",
    "\n",
    "    return s\n",
    "\n",
    "\n",
    "def load_trump_data(format: str):\n",
    "    \"\"\"\n",
    "    Load processed tweets from the Trump Tweet Archives (https://www.thetrumparchive.com/).\n",
    "    Args:\n",
    "        file: either 'raw' (i.e. dataframe with raw text), 'split_sentences' (i.e. result from split_sentences()) or 'srl_res' (i.e. result from run_srl())\n",
    "    Returns:\n",
    "        The desired object.\n",
    "    \"\"\"\n",
    "\n",
    "    if format == \"raw\":\n",
    "        r = requests.get(\n",
    "            \"https://www.dropbox.com/s/lxqz454n29iqktn/trump_archive.csv?dl=1\"\n",
    "        )\n",
    "        r = pd.read_csv(StringIO(r.text))\n",
    "    elif format == \"split_sentences\":\n",
    "        r = requests.get(\n",
    "            \"https://www.dropbox.com/s/coh4ergyrjeolen/split_sentences.json?dl=1\"\n",
    "        )\n",
    "        r = literal_eval(r.text)\n",
    "    elif format == \"srl_res\":\n",
    "        r = requests.get(\"https://www.dropbox.com/s/54lloy84ka8mycp/srl_res.json?dl=1\")\n",
    "        r = literal_eval(r.text)\n",
    "    else:\n",
    "        raise ValueError(\n",
    "            \"file argument should either be raw, split_sentences or srl_res\"\n",
    "        )\n",
    "\n",
    "    return r"
   ]
  },
  {
   "cell_type": "markdown",
   "metadata": {},
   "source": [
    "## for test function"
   ]
  },
  {
   "cell_type": "code",
   "execution_count": 1,
   "metadata": {},
   "outputs": [],
   "source": [
    "import os\n",
    "os.chdir('/Users/shim-kojio/Desktop/relatio/')"
   ]
  },
  {
   "cell_type": "code",
   "execution_count": null,
   "metadata": {},
   "outputs": [],
   "source": [
    "phrases = [\n",
    "    'Wolves eat rabbits.', \n",
    "    'The wolf eats the rabbit.', \n",
    "    'Some wolves eat vegetables, but most wolves do not eat vegetables.',\n",
    "    'Trees provide us with wood.',\n",
    "    'President Obama made great speeches. Black men and women fight for their rights.',\n",
    "    'Black men and women fight for their rights.'\n",
    "]\n",
    "\n",
    "import pandas as pd\n",
    "\n",
    "df = pd.DataFrame(phrases)\n",
    "\n",
    "df['id'] = df.index\n",
    "\n",
    "df.columns = ['doc', 'id']"
   ]
  },
  {
   "cell_type": "code",
   "execution_count": null,
   "metadata": {},
   "outputs": [],
   "source": [
    "from relatio import load_data\n",
    "df = load_data(dataset = \"trump_tweet_archive\", content = \"raw\")\n",
    "df.shape"
   ]
  },
  {
   "cell_type": "code",
   "execution_count": null,
   "metadata": {},
   "outputs": [],
   "source": [
    "import numpy as np\n",
    "def cos_sim(v1, v2):\n",
    "    return np.dot(v1, v2) / (np.linalg.norm(v1) * np.linalg.norm(v2))"
   ]
  },
  {
   "cell_type": "code",
   "execution_count": null,
   "metadata": {},
   "outputs": [],
   "source": [
    "cos_sim(embeddings[0],embeddings[2])"
   ]
  },
  {
   "cell_type": "markdown",
   "metadata": {},
   "source": [
    "## for relatio args"
   ]
  },
  {
   "cell_type": "code",
   "execution_count": 1,
   "metadata": {},
   "outputs": [],
   "source": [
    "import os\n",
    "os.chdir('/Users/shim-kojio/Desktop/relatio/')"
   ]
  },
  {
   "cell_type": "code",
   "execution_count": 2,
   "metadata": {},
   "outputs": [
    {
     "name": "stderr",
     "output_type": "stream",
     "text": [
      "2023-01-10 13:56:52.565576: I tensorflow/core/platform/cpu_feature_guard.cc:193] This TensorFlow binary is optimized with oneAPI Deep Neural Network Library (oneDNN) to use the following CPU instructions in performance-critical operations:  AVX2 FMA\n",
      "To enable them in other operations, rebuild TensorFlow with the appropriate compiler flags.\n"
     ]
    },
    {
     "name": "stdout",
     "output_type": "stream",
     "text": [
      "Splitting into sentences...\n"
     ]
    },
    {
     "name": "stderr",
     "output_type": "stream",
     "text": [
      "100%|██████████| 32323/32323 [01:57<00:00, 274.45it/s]\n"
     ]
    }
   ],
   "source": [
    "from relatio import load_data\n",
    "df = load_data(dataset = \"trump_tweet_archive\", content = \"raw\")\n",
    "from relatio import Preprocessor\n",
    "\n",
    "import spacy\n",
    "nlp = spacy.load('en_core_web_sm')\n",
    "stop_words = list(nlp.Defaults.stop_words)\n",
    "\n",
    "p = Preprocessor(\n",
    "    spacy_model = \"en_core_web_sm\",\n",
    "    remove_punctuation = True,\n",
    "    remove_digits = True,\n",
    "    lowercase = True,\n",
    "    lemmatize = True,\n",
    "    remove_chars = [\"\\\"\",'-',\"^\",\".\",\"?\",\"!\",\";\",\"(\",\")\",\",\",\":\",\"\\'\",\"+\",\"&\",\"|\",\"/\",\"{\",\"}\",\n",
    "                    \"~\",\"_\",\"`\",\"[\",\"]\",\">\",\"<\",\"=\",\"*\",\"%\",\"$\",\"@\",\"#\",\"’\"],\n",
    "    stop_words = stop_words,\n",
    "    n_process = -1,\n",
    "    batch_size = 100\n",
    ")\n",
    "\n",
    "df_split = p.split_into_sentences(\n",
    "    df, output_path = None, progress_bar = True\n",
    ")\n",
    "\n",
    "from relatio import SRL\n",
    "\n",
    "SRL = SRL(\n",
    "    path = \"https://storage.googleapis.com/allennlp-public-models/openie-model.2020.03.26.tar.gz\",\n",
    "    batch_size = 10,\n",
    "    cuda_device = -1\n",
    ")\n",
    "\n",
    "srl_res = SRL(df_split['sentence'], progress_bar=True)"
   ]
  },
  {
   "cell_type": "code",
   "execution_count": 46,
   "metadata": {},
   "outputs": [
    {
     "data": {
      "text/plain": [
       "'Republicans and Democrats have both created our economic problems.'"
      ]
     },
     "execution_count": 46,
     "metadata": {},
     "output_type": "execute_result"
    }
   ],
   "source": [
    "df_split.loc[0,'sentence']"
   ]
  },
  {
   "cell_type": "code",
   "execution_count": 52,
   "metadata": {},
   "outputs": [
    {
     "data": {
      "text/plain": [
       "[{'verb': 'have',\n",
       "  'description': 'Republicans and Democrats [V: have] both created our economic problems .',\n",
       "  'tags': ['O', 'O', 'O', 'B-V', 'O', 'O', 'O', 'O', 'O', 'O']},\n",
       " {'verb': 'created',\n",
       "  'description': '[ARG0: Republicans and Democrats] have both [V: created] [ARG1: our economic problems] .',\n",
       "  'tags': ['B-ARG0',\n",
       "   'I-ARG0',\n",
       "   'I-ARG0',\n",
       "   'O',\n",
       "   'O',\n",
       "   'B-V',\n",
       "   'B-ARG1',\n",
       "   'I-ARG1',\n",
       "   'I-ARG1',\n",
       "   'O']}]"
      ]
     },
     "execution_count": 52,
     "metadata": {},
     "output_type": "execute_result"
    }
   ],
   "source": [
    "srl_res[0]['verbs']"
   ]
  },
  {
   "cell_type": "code",
   "execution_count": 4,
   "metadata": {},
   "outputs": [
    {
     "name": "stdout",
     "output_type": "stream",
     "text": [
      "Extracting semantic roles...\n"
     ]
    },
    {
     "name": "stderr",
     "output_type": "stream",
     "text": [
      "100%|██████████| 63723/63723 [00:03<00:00, 16002.05it/s]"
     ]
    },
    {
     "name": "stdout",
     "output_type": "stream",
     "text": [
      "{'B-V': 'have'}\n",
      "{'ARG0': 'Republicans and Democrats', 'ARG1': 'our economic problems', 'B-V': 'created'}\n",
      "{'ARG1': 'I', 'ARG2': 'thrilled to be back in the Great city of Charlotte , North Carolina with thousands of hardworking American Patriots who love our Country , cherish our values , respect our laws , and always put AMERICA FIRST', 'B-V': 'was'}\n",
      "{'ARG1': 'I', 'ARG2': 'back in the Great city of Charlotte , North Carolina with , respect our laws , and always put AMERICA FIRST', 'B-V': 'be'}\n",
      "{'ARG1': 'Patriots', 'B-V': 'hardworking'}\n"
     ]
    },
    {
     "name": "stderr",
     "output_type": "stream",
     "text": [
      "\n"
     ]
    }
   ],
   "source": [
    "from relatio import extract_roles\n",
    "\n",
    "roles, sentence_index = extract_roles(\n",
    "    srl_res, \n",
    "    used_roles = [\"ARG0\",\"B-V\",\"B-ARGM-NEG\",\"B-ARGM-MOD\",\"ARG1\",\"ARG2\"],\n",
    "    progress_bar = True\n",
    ")\n",
    "\n",
    "for d in roles[0:5]: print(d)"
   ]
  },
  {
   "cell_type": "code",
   "execution_count": 61,
   "metadata": {},
   "outputs": [
    {
     "data": {
      "text/plain": [
       "147618"
      ]
     },
     "execution_count": 61,
     "metadata": {},
     "output_type": "execute_result"
    }
   ],
   "source": [
    "len(roles)"
   ]
  },
  {
   "cell_type": "code",
   "execution_count": 62,
   "metadata": {},
   "outputs": [
    {
     "data": {
      "text/plain": [
       "{'verbs': [{'verb': 'have',\n",
       "   'description': 'Republicans and Democrats [V: have] both created our economic problems .',\n",
       "   'tags': ['O', 'O', 'O', 'B-V', 'O', 'O', 'O', 'O', 'O', 'O']},\n",
       "  {'verb': 'created',\n",
       "   'description': '[ARG0: Republicans and Democrats] have both [V: created] [ARG1: our economic problems] .',\n",
       "   'tags': ['B-ARG0',\n",
       "    'I-ARG0',\n",
       "    'I-ARG0',\n",
       "    'O',\n",
       "    'O',\n",
       "    'B-V',\n",
       "    'B-ARG1',\n",
       "    'I-ARG1',\n",
       "    'I-ARG1',\n",
       "    'O']}],\n",
       " 'words': ['Republicans',\n",
       "  'and',\n",
       "  'Democrats',\n",
       "  'have',\n",
       "  'both',\n",
       "  'created',\n",
       "  'our',\n",
       "  'economic',\n",
       "  'problems',\n",
       "  '.']}"
      ]
     },
     "execution_count": 62,
     "metadata": {},
     "output_type": "execute_result"
    }
   ],
   "source": [
    "srl_res[0]"
   ]
  },
  {
   "cell_type": "code",
   "execution_count": 59,
   "metadata": {},
   "outputs": [
    {
     "data": {
      "text/plain": [
       "[{'B-V': 'have'},\n",
       " {'ARG0': 'Republicans and Democrats',\n",
       "  'ARG1': 'our economic problems',\n",
       "  'B-V': 'created'},\n",
       " {'ARG1': 'I',\n",
       "  'ARG2': 'thrilled to be back in the Great city of Charlotte , North Carolina with thousands of hardworking American Patriots who love our Country , cherish our values , respect our laws , and always put AMERICA FIRST',\n",
       "  'B-V': 'was'},\n",
       " {'ARG1': 'I',\n",
       "  'ARG2': 'back in the Great city of Charlotte , North Carolina with , respect our laws , and always put AMERICA FIRST',\n",
       "  'B-V': 'be'},\n",
       " {'ARG1': 'Patriots', 'B-V': 'hardworking'},\n",
       " {'ARG0': 'thousands of hardworking American Patriots who',\n",
       "  'ARG1': 'our Country',\n",
       "  'B-V': 'love'},\n",
       " {'ARG0': 'thousands of hardworking American Patriots who',\n",
       "  'ARG1': 'our values',\n",
       "  'B-V': 'cherish'},\n",
       " {'ARG1': 'our laws', 'B-V': 'respect'},\n",
       " {'ARG0': 'who', 'ARG1': 'AMERICA FIRST', 'B-V': 'put'},\n",
       " {'ARG1': 'you', 'ARG2': 'for a wonderful evening', 'B-V': 'Thank'}]"
      ]
     },
     "execution_count": 59,
     "metadata": {},
     "output_type": "execute_result"
    }
   ],
   "source": [
    "roles[:10]"
   ]
  },
  {
   "cell_type": "code",
   "execution_count": 5,
   "metadata": {},
   "outputs": [
    {
     "name": "stdout",
     "output_type": "stream",
     "text": [
      "Cleaning phrases for role ARG0...\n"
     ]
    },
    {
     "name": "stderr",
     "output_type": "stream",
     "text": [
      "100%|██████████| 53100/53100 [00:47<00:00, 1116.79it/s]\n"
     ]
    },
    {
     "name": "stdout",
     "output_type": "stream",
     "text": [
      "Cleaning phrases for role B-V...\n"
     ]
    },
    {
     "name": "stderr",
     "output_type": "stream",
     "text": [
      "100%|██████████| 136367/136367 [01:44<00:00, 1299.37it/s]\n"
     ]
    },
    {
     "name": "stdout",
     "output_type": "stream",
     "text": [
      "Cleaning phrases for role B-ARGM-MOD...\n"
     ]
    },
    {
     "name": "stderr",
     "output_type": "stream",
     "text": [
      "100%|██████████| 12891/12891 [00:10<00:00, 1255.56it/s]\n"
     ]
    },
    {
     "name": "stdout",
     "output_type": "stream",
     "text": [
      "Cleaning phrases for role ARG1...\n"
     ]
    },
    {
     "name": "stderr",
     "output_type": "stream",
     "text": [
      "100%|██████████| 98772/98772 [01:46<00:00, 925.05it/s] \n"
     ]
    },
    {
     "name": "stdout",
     "output_type": "stream",
     "text": [
      "Cleaning phrases for role ARG2...\n"
     ]
    },
    {
     "name": "stderr",
     "output_type": "stream",
     "text": [
      "100%|██████████| 32566/32566 [00:39<00:00, 831.73it/s] \n"
     ]
    },
    {
     "name": "stdout",
     "output_type": "stream",
     "text": [
      "{}\n",
      "{'ARG0': 'republicans democrats', 'B-V': 'create', 'ARG1': 'problem'}\n",
      "{}\n",
      "{}\n",
      "{'B-V': 'hardworke', 'ARG1': 'patriot'}\n"
     ]
    }
   ],
   "source": [
    "postproc_roles = p.process_roles(roles, \n",
    "                                 dict_of_pos_tags_to_keep = {\n",
    "                                     \"ARG0\": ['PRON', 'NOUN', 'PROPN'],\n",
    "                                     \"B-V\": ['VERB'],\n",
    "                                     \"ARG1\": ['NOUN', 'PROPN', 'PRON']\n",
    "                                 }, \n",
    "                                 max_length = 50,\n",
    "                                 progress_bar = True,\n",
    "                                 output_path = 'postproc_roles.json')\n",
    "\n",
    "for d in postproc_roles[0:5]: print(d)"
   ]
  },
  {
   "cell_type": "code",
   "execution_count": 43,
   "metadata": {},
   "outputs": [
    {
     "name": "stdout",
     "output_type": "stream",
     "text": [
      "Mining named entities...\n"
     ]
    },
    {
     "name": "stderr",
     "output_type": "stream",
     "text": [
      "  0%|          | 0/63723 [00:00<?, ?it/s]"
     ]
    },
    {
     "name": "stdout",
     "output_type": "stream",
     "text": [
      "huggingface/tokenizers: The current process just got forked, after parallelism has already been used. Disabling parallelism to avoid deadlocks...\n",
      "To disable this warning, you can either:\n",
      "\t- Avoid using `tokenizers` before the fork if possible\n",
      "\t- Explicitly set the environment variable TOKENIZERS_PARALLELISM=(true | false)\n",
      "huggingface/tokenizers: The current process just got forked, after parallelism has already been used. Disabling parallelism to avoid deadlocks...\n",
      "To disable this warning, you can either:\n",
      "\t- Avoid using `tokenizers` before the fork if possible\n",
      "\t- Explicitly set the environment variable TOKENIZERS_PARALLELISM=(true | false)\n",
      "huggingface/tokenizers: The current process just got forked, after parallelism has already been used. Disabling parallelism to avoid deadlocks...\n",
      "To disable this warning, you can either:\n",
      "\t- Avoid using `tokenizers` before the fork if possible\n",
      "\t- Explicitly set the environment variable TOKENIZERS_PARALLELISM=(true | false)\n",
      "huggingface/tokenizers: The current process just got forked, after parallelism has already been used. Disabling parallelism to avoid deadlocks...\n",
      "To disable this warning, you can either:\n",
      "\t- Avoid using `tokenizers` before the fork if possible\n",
      "\t- Explicitly set the environment variable TOKENIZERS_PARALLELISM=(true | false)\n"
     ]
    },
    {
     "name": "stderr",
     "output_type": "stream",
     "text": [
      "100%|██████████| 63723/63723 [02:12<00:00, 481.88it/s]\n"
     ]
    },
    {
     "name": "stdout",
     "output_type": "stream",
     "text": [
      "('democrats', 1153)\n",
      "('china', 902)\n",
      "('u s', 843)\n",
      "('america', 585)\n",
      "('american', 577)\n",
      "('trump', 531)\n",
      "('barackobama', 498)\n",
      "('united states', 438)\n",
      "('republicans', 437)\n",
      "('republican', 418)\n"
     ]
    }
   ],
   "source": [
    "known_entities = p.mine_entities(\n",
    "    df_split['sentence'], \n",
    "    clean_entities = True, \n",
    "    progress_bar = True,\n",
    "    output_path = 'entities.pkl'\n",
    ")\n",
    "\n",
    "for n in known_entities.most_common(10): print(n)"
   ]
  },
  {
   "cell_type": "code",
   "execution_count": 16,
   "metadata": {},
   "outputs": [
    {
     "ename": "NameError",
     "evalue": "name 'relatio' is not defined",
     "output_type": "error",
     "traceback": [
      "\u001b[0;31m---------------------------------------------------------------------------\u001b[0m",
      "\u001b[0;31mNameError\u001b[0m                                 Traceback (most recent call last)",
      "\u001b[0;32m/var/folders/30/20s46n1s20jdzzh6w9vnkglw0000gn/T/ipykernel_10533/3297494795.py\u001b[0m in \u001b[0;36m<module>\u001b[0;34m\u001b[0m\n\u001b[1;32m      1\u001b[0m \u001b[0;32mimport\u001b[0m \u001b[0mimportlib\u001b[0m\u001b[0;34m\u001b[0m\u001b[0;34m\u001b[0m\u001b[0m\n\u001b[1;32m      2\u001b[0m \u001b[0;31m# import relatio\u001b[0m\u001b[0;34m\u001b[0m\u001b[0;34m\u001b[0m\u001b[0;34m\u001b[0m\u001b[0m\n\u001b[0;32m----> 3\u001b[0;31m \u001b[0mimportlib\u001b[0m\u001b[0;34m.\u001b[0m\u001b[0mreload\u001b[0m\u001b[0;34m(\u001b[0m\u001b[0mrelatio\u001b[0m\u001b[0;34m.\u001b[0m\u001b[0mnarrative_models\u001b[0m\u001b[0;34m)\u001b[0m\u001b[0;34m\u001b[0m\u001b[0;34m\u001b[0m\u001b[0m\n\u001b[0m\u001b[1;32m      4\u001b[0m \u001b[0;32mfrom\u001b[0m \u001b[0mrelatio\u001b[0m\u001b[0;34m.\u001b[0m\u001b[0mnarrative_models\u001b[0m \u001b[0;32mimport\u001b[0m \u001b[0;34m*\u001b[0m\u001b[0;34m\u001b[0m\u001b[0;34m\u001b[0m\u001b[0m\n",
      "\u001b[0;31mNameError\u001b[0m: name 'relatio' is not defined"
     ]
    }
   ],
   "source": [
    "# import importlib\n",
    "# import relatio\n",
    "# importlib.reload(relatio.narrative_models)\n",
    "# from relatio.narrative_models import *"
   ]
  },
  {
   "cell_type": "code",
   "execution_count": 52,
   "metadata": {},
   "outputs": [
    {
     "name": "stdout",
     "output_type": "stream",
     "text": [
      "Matching known entities (with character matching)...\n"
     ]
    },
    {
     "name": "stderr",
     "output_type": "stream",
     "text": [
      "100%|██████████| 8997/8997 [00:01<00:00, 7373.24it/s]\n"
     ]
    },
    {
     "name": "stdout",
     "output_type": "stream",
     "text": [
      "Matching known entities (with character matching)...\n"
     ]
    },
    {
     "name": "stderr",
     "output_type": "stream",
     "text": [
      "100%|██████████| 29027/29027 [00:03<00:00, 9005.07it/s]\n"
     ]
    },
    {
     "name": "stdout",
     "output_type": "stream",
     "text": [
      "Matching known entities (with character matching)...\n"
     ]
    },
    {
     "name": "stderr",
     "output_type": "stream",
     "text": [
      "100%|██████████| 15879/15879 [00:01<00:00, 9163.13it/s]\n"
     ]
    },
    {
     "name": "stdout",
     "output_type": "stream",
     "text": [
      "Computing phrase embeddings...\n"
     ]
    },
    {
     "name": "stderr",
     "output_type": "stream",
     "text": [
      "100%|██████████| 34624/34624 [01:57<00:00, 295.15it/s]\n"
     ]
    },
    {
     "name": "stdout",
     "output_type": "stream",
     "text": [
      "Dimension reduction via PCA...\n",
      "PCA parameters:\n",
      "{'n_components': 50, 'svd_solver': 'full'}\n",
      "Dimension reduction via UMAP...\n",
      "UMAP parameters:\n",
      "{'n_neighbors': 15, 'n_components': 2, 'random_state': 0}\n",
      "Clustering phrases into clusters...\n",
      "the size of the phrase_to_embed: 34624\n",
      "Clustering parameters chosen in this range:\n",
      "{'n_clusters': [59, 99, 139, 179, 219, 259, 299, 339, 379, 419, 459, 499, 539, 579], 'random_state': 0}\n",
      "Labeling the clusters by the most frequent phrases...\n"
     ]
    },
    {
     "name": "stderr",
     "output_type": "stream",
     "text": [
      "/Users/shim-kojio/Desktop/relatio/relatio/narrative_models.py:456: RuntimeWarning: Multiple labels for cluster 35- 2 shown: [('country great', 6), ('great country', 6)]. First one is picked.\n",
      "  \n",
      "/Users/shim-kojio/Desktop/relatio/relatio/narrative_models.py:456: RuntimeWarning: Multiple labels for cluster 42- 2 shown: [('eliot spitzer', 8), ('jay powell federal reserve', 8)]. First one is picked.\n",
      "  \n",
      "/Users/shim-kojio/Desktop/relatio/relatio/narrative_models.py:456: RuntimeWarning: Multiple labels for cluster 104- 2 shown: [('baseball hall fame', 5), ('induct wwe hall fame', 5)]. First one is picked.\n",
      "  \n",
      "/Users/shim-kojio/Desktop/relatio/relatio/narrative_models.py:456: RuntimeWarning: Multiple labels for cluster 138- 2 shown: [('plan historic tax cuts finish line', 2), ('tax cuts reform history country', 2)]. First one is picked.\n",
      "  \n",
      "/Users/shim-kojio/Desktop/relatio/relatio/narrative_models.py:456: RuntimeWarning: Multiple labels for cluster 181- 2 shown: [('pastor', 7), ('pope', 7)]. First one is picked.\n",
      "  \n",
      "/Users/shim-kojio/Desktop/relatio/relatio/narrative_models.py:456: RuntimeWarning: Multiple labels for cluster 201- 2 shown: [('airport amp paris shutdown', 2), ('amp book general motors building vicky ward', 2)]. First one is picked.\n",
      "  \n",
      "/Users/shim-kojio/Desktop/relatio/relatio/narrative_models.py:456: RuntimeWarning: Multiple labels for cluster 229- 2 shown: [('kurds', 19), ('libya', 19)]. First one is picked.\n",
      "  \n",
      "/Users/shim-kojio/Desktop/relatio/relatio/narrative_models.py:456: RuntimeWarning: Multiple labels for cluster 233- 2 shown: [('bob', 15), ('jeff sessions', 15)]. First one is picked.\n",
      "  \n",
      "/Users/shim-kojio/Desktop/relatio/relatio/narrative_models.py:456: RuntimeWarning: Multiple labels for cluster 298- 2 shown: [('business amp', 6), ('law amp order', 6)]. First one is picked.\n",
      "  \n"
     ]
    }
   ],
   "source": [
    "from relatio.narrative_models import NarrativeModel\n",
    "\n",
    "m = NarrativeModel(\n",
    "    clustering = 'kmeans',\n",
    "    PCA = True,\n",
    "    UMAP = True,\n",
    "    roles_considered = ['ARG0', 'B-V', 'B-ARGM-NEG', 'ARG1', 'ARG2'],\n",
    "    roles_with_known_entities = ['ARG0','ARG1','ARG2'],\n",
    "    known_entities = top_known_entities,\n",
    "    assignment_to_known_entities = 'character_matching',\n",
    "    roles_with_unknown_entities = ['ARG0','ARG1','ARG2'],\n",
    "    threshold = 0.3,\n",
    "    # embeddings_model='multilingual_BERT'\n",
    ")    \n",
    "\n",
    "m.fit(postproc_roles,progress_bar = True,max_num_clusters=600)              \n",
    "# m.fit(postproc_roles, cluster_args = {\"n_clusters\": [i for i in range(100,600,50)], \"random_state\": 0},progress_bar = True) "
   ]
  },
  {
   "cell_type": "code",
   "execution_count": 53,
   "metadata": {},
   "outputs": [
    {
     "data": {
      "image/png": "[encoded data removed]",
      "text/plain": [
       "<Figure size 1400x800 with 1 Axes>"
      ]
     },
     "metadata": {},
     "output_type": "display_data"
    }
   ],
   "source": [
    "m.plot_selection_metric()"
   ]
  },
  {
   "cell_type": "code",
   "execution_count": 9,
   "metadata": {},
   "outputs": [
    {
     "name": "stdout",
     "output_type": "stream",
     "text": [
      "\n",
      "Predicting entities for role: ARG0...\n",
      "Matching known entities (with character matching)...\n"
     ]
    },
    {
     "name": "stderr",
     "output_type": "stream",
     "text": [
      "100%|██████████| 26386/26386 [00:02<00:00, 10274.71it/s]\n"
     ]
    },
    {
     "name": "stdout",
     "output_type": "stream",
     "text": [
      "Matching unknown entities (with clustering model)...\n",
      "Computing phrase embeddings...\n"
     ]
    },
    {
     "name": "stderr",
     "output_type": "stream",
     "text": [
      "100%|██████████| 26386/26386 [01:18<00:00, 336.54it/s]\n"
     ]
    },
    {
     "name": "stdout",
     "output_type": "stream",
     "text": [
      "Dimension reduction of vectors (PCA)...\n",
      "Dimension reduction of vectors (UMAP)...\n",
      "Assignment to clusters...\n",
      "Assigning labels to matches...\n",
      "\n",
      "Predicting entities for role: ARG1...\n",
      "Matching known entities (with character matching)...\n"
     ]
    },
    {
     "name": "stderr",
     "output_type": "stream",
     "text": [
      "100%|██████████| 68189/68189 [00:07<00:00, 9694.29it/s] \n"
     ]
    },
    {
     "name": "stdout",
     "output_type": "stream",
     "text": [
      "Matching unknown entities (with clustering model)...\n",
      "Computing phrase embeddings...\n"
     ]
    },
    {
     "name": "stderr",
     "output_type": "stream",
     "text": [
      "100%|██████████| 68189/68189 [03:37<00:00, 314.10it/s]\n"
     ]
    },
    {
     "name": "stdout",
     "output_type": "stream",
     "text": [
      "Dimension reduction of vectors (PCA)...\n",
      "Dimension reduction of vectors (UMAP)...\n",
      "Assignment to clusters...\n",
      "Assigning labels to matches...\n",
      "\n",
      "Predicting entities for role: ARG2...\n",
      "Matching known entities (with character matching)...\n"
     ]
    },
    {
     "name": "stderr",
     "output_type": "stream",
     "text": [
      "100%|██████████| 27115/27115 [00:02<00:00, 10066.43it/s]\n"
     ]
    },
    {
     "name": "stdout",
     "output_type": "stream",
     "text": [
      "Matching unknown entities (with clustering model)...\n",
      "Computing phrase embeddings...\n"
     ]
    },
    {
     "name": "stderr",
     "output_type": "stream",
     "text": [
      "100%|██████████| 27115/27115 [01:23<00:00, 325.54it/s]\n"
     ]
    },
    {
     "name": "stdout",
     "output_type": "stream",
     "text": [
      "Dimension reduction of vectors (PCA)...\n",
      "Dimension reduction of vectors (UMAP)...\n",
      "Assignment to clusters...\n",
      "Assigning labels to matches...\n"
     ]
    }
   ],
   "source": [
    "narratives = m.predict(postproc_roles, progress_bar = True)"
   ]
  },
  {
   "cell_type": "code",
   "execution_count": null,
   "metadata": {},
   "outputs": [],
   "source": []
  },
  {
   "cell_type": "code",
   "execution_count": 2,
   "metadata": {},
   "outputs": [
    {
     "name": "stderr",
     "output_type": "stream",
     "text": [
      "/Users/shim-kojio/miniconda3/envs/mas_thesis/lib/python3.7/site-packages/torchvision/io/image.py:13: UserWarning: Failed to load image Python extension: dlopen(/Users/shim-kojio/miniconda3/envs/mas_thesis/lib/python3.7/site-packages/torchvision/image.so, 0x0006): Symbol not found: __ZN3c106detail19maybe_wrap_dim_slowExxb\n",
      "  Referenced from: <C0890DAF-AD60-3E5F-A476-38A5CB42A179> /Users/shim-kojio/miniconda3/envs/mas_thesis/lib/python3.7/site-packages/torchvision/image.so\n",
      "  Expected in:     <641FDF53-A831-3A7B-95BE-A5A95C6C5369> /Users/shim-kojio/miniconda3/envs/mas_thesis/lib/python3.7/site-packages/torch/lib/libc10.dylib\n",
      "  warn(f\"Failed to load image Python extension: {e}\")\n"
     ]
    },
    {
     "ename": "ImportError",
     "evalue": "cannot import name 'QuantStub' from 'torch.ao.quantization' (/Users/shim-kojio/miniconda3/envs/mas_thesis/lib/python3.7/site-packages/torch/ao/quantization/__init__.py)",
     "output_type": "error",
     "traceback": [
      "\u001b[0;31m---------------------------------------------------------------------------\u001b[0m",
      "\u001b[0;31mImportError\u001b[0m                               Traceback (most recent call last)",
      "\u001b[0;32m/var/folders/30/20s46n1s20jdzzh6w9vnkglw0000gn/T/ipykernel_17539/766725774.py\u001b[0m in \u001b[0;36m<module>\u001b[0;34m\u001b[0m\n\u001b[0;32m----> 1\u001b[0;31m \u001b[0;32mfrom\u001b[0m \u001b[0mrelatio\u001b[0m\u001b[0;34m.\u001b[0m\u001b[0mutils\u001b[0m \u001b[0;32mimport\u001b[0m \u001b[0mload_entities\u001b[0m\u001b[0;34m\u001b[0m\u001b[0;34m\u001b[0m\u001b[0m\n\u001b[0m\u001b[1;32m      2\u001b[0m \u001b[0mknown_entities\u001b[0m \u001b[0;34m=\u001b[0m \u001b[0mload_entities\u001b[0m\u001b[0;34m(\u001b[0m\u001b[0;34m'entities.pkl'\u001b[0m\u001b[0;34m)\u001b[0m\u001b[0;34m\u001b[0m\u001b[0;34m\u001b[0m\u001b[0m\n\u001b[1;32m      3\u001b[0m \u001b[0mtop_known_entities\u001b[0m \u001b[0;34m=\u001b[0m \u001b[0;34m[\u001b[0m\u001b[0me\u001b[0m\u001b[0;34m[\u001b[0m\u001b[0;36m0\u001b[0m\u001b[0;34m]\u001b[0m \u001b[0;32mfor\u001b[0m \u001b[0me\u001b[0m \u001b[0;32min\u001b[0m \u001b[0mlist\u001b[0m\u001b[0;34m(\u001b[0m\u001b[0mknown_entities\u001b[0m\u001b[0;34m.\u001b[0m\u001b[0mmost_common\u001b[0m\u001b[0;34m(\u001b[0m\u001b[0;36m100\u001b[0m\u001b[0;34m)\u001b[0m\u001b[0;34m)\u001b[0m \u001b[0;32mif\u001b[0m \u001b[0me\u001b[0m\u001b[0;34m[\u001b[0m\u001b[0;36m0\u001b[0m\u001b[0;34m]\u001b[0m \u001b[0;34m!=\u001b[0m \u001b[0;34m''\u001b[0m\u001b[0;34m]\u001b[0m\u001b[0;34m\u001b[0m\u001b[0;34m\u001b[0m\u001b[0m\n\u001b[1;32m      4\u001b[0m \u001b[0;34m\u001b[0m\u001b[0m\n\u001b[1;32m      5\u001b[0m \u001b[0;32mfrom\u001b[0m \u001b[0mrelatio\u001b[0m\u001b[0;34m.\u001b[0m\u001b[0mutils\u001b[0m \u001b[0;32mimport\u001b[0m \u001b[0mload_roles\u001b[0m\u001b[0;34m\u001b[0m\u001b[0;34m\u001b[0m\u001b[0m\n",
      "\u001b[0;32m~/Desktop/relatio/relatio/__init__.py\u001b[0m in \u001b[0;36m<module>\u001b[0;34m\u001b[0m\n\u001b[1;32m      8\u001b[0m \u001b[0;32mfrom\u001b[0m \u001b[0mrelatio\u001b[0m\u001b[0;34m.\u001b[0m\u001b[0mnarrative_models\u001b[0m \u001b[0;32mimport\u001b[0m \u001b[0mNarrativeModel\u001b[0m\u001b[0;34m\u001b[0m\u001b[0;34m\u001b[0m\u001b[0m\n\u001b[1;32m      9\u001b[0m \u001b[0;32mfrom\u001b[0m \u001b[0mrelatio\u001b[0m\u001b[0;34m.\u001b[0m\u001b[0mpreprocessing\u001b[0m \u001b[0;32mimport\u001b[0m \u001b[0mPreprocessor\u001b[0m\u001b[0;34m\u001b[0m\u001b[0;34m\u001b[0m\u001b[0m\n\u001b[0;32m---> 10\u001b[0;31m \u001b[0;32mfrom\u001b[0m \u001b[0mrelatio\u001b[0m\u001b[0;34m.\u001b[0m\u001b[0msemantic_role_labeling\u001b[0m \u001b[0;32mimport\u001b[0m \u001b[0mSRL\u001b[0m\u001b[0;34m,\u001b[0m \u001b[0mextract_roles\u001b[0m\u001b[0;34m\u001b[0m\u001b[0;34m\u001b[0m\u001b[0m\n\u001b[0m\u001b[1;32m     11\u001b[0m \u001b[0;32mfrom\u001b[0m \u001b[0mrelatio\u001b[0m\u001b[0;34m.\u001b[0m\u001b[0mverbs\u001b[0m \u001b[0;32mimport\u001b[0m \u001b[0mclean_verbs\u001b[0m\u001b[0;34m\u001b[0m\u001b[0;34m\u001b[0m\u001b[0m\n\u001b[1;32m     12\u001b[0m \u001b[0;34m\u001b[0m\u001b[0m\n",
      "\u001b[0;32m~/Desktop/relatio/relatio/semantic_role_labeling.py\u001b[0m in \u001b[0;36m<module>\u001b[0;34m\u001b[0m\n\u001b[1;32m     20\u001b[0m \u001b[0;32mimport\u001b[0m \u001b[0mnumpy\u001b[0m \u001b[0;32mas\u001b[0m \u001b[0mnp\u001b[0m\u001b[0;34m\u001b[0m\u001b[0;34m\u001b[0m\u001b[0m\n\u001b[1;32m     21\u001b[0m \u001b[0;32mimport\u001b[0m \u001b[0mtorch\u001b[0m\u001b[0;34m\u001b[0m\u001b[0;34m\u001b[0m\u001b[0m\n\u001b[0;32m---> 22\u001b[0;31m from allennlp_models.structured_prediction.predictors import (\n\u001b[0m\u001b[1;32m     23\u001b[0m     \u001b[0mSemanticRoleLabelerPredictor\u001b[0m \u001b[0;32mas\u001b[0m \u001b[0mPredictor\u001b[0m\u001b[0;34m,\u001b[0m\u001b[0;34m\u001b[0m\u001b[0;34m\u001b[0m\u001b[0m\n\u001b[1;32m     24\u001b[0m )\n",
      "\u001b[0;32m~/miniconda3/envs/mas_thesis/lib/python3.7/site-packages/allennlp_models/structured_prediction/__init__.py\u001b[0m in \u001b[0;36m<module>\u001b[0;34m\u001b[0m\n\u001b[1;32m      1\u001b[0m \u001b[0;31m# flake8: noqa: F403\u001b[0m\u001b[0;34m\u001b[0m\u001b[0;34m\u001b[0m\u001b[0;34m\u001b[0m\u001b[0m\n\u001b[0;32m----> 2\u001b[0;31m \u001b[0;32mfrom\u001b[0m \u001b[0mallennlp_models\u001b[0m\u001b[0;34m.\u001b[0m\u001b[0mstructured_prediction\u001b[0m\u001b[0;34m.\u001b[0m\u001b[0mpredictors\u001b[0m \u001b[0;32mimport\u001b[0m \u001b[0;34m*\u001b[0m\u001b[0;34m\u001b[0m\u001b[0;34m\u001b[0m\u001b[0m\n\u001b[0m\u001b[1;32m      3\u001b[0m \u001b[0;32mfrom\u001b[0m \u001b[0mallennlp_models\u001b[0m\u001b[0;34m.\u001b[0m\u001b[0mstructured_prediction\u001b[0m\u001b[0;34m.\u001b[0m\u001b[0mdataset_readers\u001b[0m \u001b[0;32mimport\u001b[0m \u001b[0;34m*\u001b[0m\u001b[0;34m\u001b[0m\u001b[0;34m\u001b[0m\u001b[0m\n\u001b[1;32m      4\u001b[0m \u001b[0;32mfrom\u001b[0m \u001b[0mallennlp_models\u001b[0m\u001b[0;34m.\u001b[0m\u001b[0mstructured_prediction\u001b[0m\u001b[0;34m.\u001b[0m\u001b[0mmetrics\u001b[0m \u001b[0;32mimport\u001b[0m \u001b[0;34m*\u001b[0m\u001b[0;34m\u001b[0m\u001b[0;34m\u001b[0m\u001b[0m\n\u001b[1;32m      5\u001b[0m \u001b[0;32mfrom\u001b[0m \u001b[0mallennlp_models\u001b[0m\u001b[0;34m.\u001b[0m\u001b[0mstructured_prediction\u001b[0m\u001b[0;34m.\u001b[0m\u001b[0mmodels\u001b[0m \u001b[0;32mimport\u001b[0m \u001b[0;34m*\u001b[0m\u001b[0;34m\u001b[0m\u001b[0;34m\u001b[0m\u001b[0m\n",
      "\u001b[0;32m~/miniconda3/envs/mas_thesis/lib/python3.7/site-packages/allennlp_models/structured_prediction/predictors/__init__.py\u001b[0m in \u001b[0;36m<module>\u001b[0;34m\u001b[0m\n\u001b[0;32m----> 1\u001b[0;31m from allennlp_models.structured_prediction.predictors.biaffine_dependency_parser import (\n\u001b[0m\u001b[1;32m      2\u001b[0m     \u001b[0mBiaffineDependencyParserPredictor\u001b[0m\u001b[0;34m,\u001b[0m\u001b[0;34m\u001b[0m\u001b[0;34m\u001b[0m\u001b[0m\n\u001b[1;32m      3\u001b[0m )\n\u001b[1;32m      4\u001b[0m from allennlp_models.structured_prediction.predictors.constituency_parser import (\n\u001b[1;32m      5\u001b[0m     \u001b[0mConstituencyParserPredictor\u001b[0m\u001b[0;34m,\u001b[0m\u001b[0;34m\u001b[0m\u001b[0;34m\u001b[0m\u001b[0m\n",
      "\u001b[0;32m~/miniconda3/envs/mas_thesis/lib/python3.7/site-packages/allennlp_models/structured_prediction/predictors/biaffine_dependency_parser.py\u001b[0m in \u001b[0;36m<module>\u001b[0;34m\u001b[0m\n\u001b[1;32m      3\u001b[0m \u001b[0;34m\u001b[0m\u001b[0m\n\u001b[1;32m      4\u001b[0m \u001b[0;32mfrom\u001b[0m \u001b[0mallennlp\u001b[0m\u001b[0;34m.\u001b[0m\u001b[0mcommon\u001b[0m\u001b[0;34m.\u001b[0m\u001b[0mutil\u001b[0m \u001b[0;32mimport\u001b[0m \u001b[0mJsonDict\u001b[0m\u001b[0;34m,\u001b[0m \u001b[0msanitize\u001b[0m\u001b[0;34m\u001b[0m\u001b[0;34m\u001b[0m\u001b[0m\n\u001b[0;32m----> 5\u001b[0;31m \u001b[0;32mfrom\u001b[0m \u001b[0mallennlp\u001b[0m\u001b[0;34m.\u001b[0m\u001b[0mdata\u001b[0m \u001b[0;32mimport\u001b[0m \u001b[0mDatasetReader\u001b[0m\u001b[0;34m,\u001b[0m \u001b[0mInstance\u001b[0m\u001b[0;34m\u001b[0m\u001b[0;34m\u001b[0m\u001b[0m\n\u001b[0m\u001b[1;32m      6\u001b[0m \u001b[0;32mfrom\u001b[0m \u001b[0mallennlp\u001b[0m\u001b[0;34m.\u001b[0m\u001b[0mmodels\u001b[0m \u001b[0;32mimport\u001b[0m \u001b[0mModel\u001b[0m\u001b[0;34m\u001b[0m\u001b[0;34m\u001b[0m\u001b[0m\n\u001b[1;32m      7\u001b[0m \u001b[0;32mfrom\u001b[0m \u001b[0mallennlp\u001b[0m\u001b[0;34m.\u001b[0m\u001b[0mpredictors\u001b[0m\u001b[0;34m.\u001b[0m\u001b[0mpredictor\u001b[0m \u001b[0;32mimport\u001b[0m \u001b[0mPredictor\u001b[0m\u001b[0;34m\u001b[0m\u001b[0;34m\u001b[0m\u001b[0m\n",
      "\u001b[0;32m~/miniconda3/envs/mas_thesis/lib/python3.7/site-packages/allennlp/data/__init__.py\u001b[0m in \u001b[0;36m<module>\u001b[0;34m\u001b[0m\n\u001b[1;32m     13\u001b[0m \u001b[0;32mfrom\u001b[0m \u001b[0mallennlp\u001b[0m\u001b[0;34m.\u001b[0m\u001b[0mdata\u001b[0m\u001b[0;34m.\u001b[0m\u001b[0mvocabulary\u001b[0m \u001b[0;32mimport\u001b[0m \u001b[0mVocabulary\u001b[0m\u001b[0;34m\u001b[0m\u001b[0;34m\u001b[0m\u001b[0m\n\u001b[1;32m     14\u001b[0m \u001b[0;32mfrom\u001b[0m \u001b[0mallennlp\u001b[0m\u001b[0;34m.\u001b[0m\u001b[0mdata\u001b[0m\u001b[0;34m.\u001b[0m\u001b[0mbatch\u001b[0m \u001b[0;32mimport\u001b[0m \u001b[0mBatch\u001b[0m\u001b[0;34m\u001b[0m\u001b[0;34m\u001b[0m\u001b[0m\n\u001b[0;32m---> 15\u001b[0;31m \u001b[0;32mfrom\u001b[0m \u001b[0mallennlp\u001b[0m\u001b[0;34m.\u001b[0m\u001b[0mdata\u001b[0m\u001b[0;34m.\u001b[0m\u001b[0mimage_loader\u001b[0m \u001b[0;32mimport\u001b[0m \u001b[0mImageLoader\u001b[0m\u001b[0;34m,\u001b[0m \u001b[0mTorchImageLoader\u001b[0m\u001b[0;34m\u001b[0m\u001b[0;34m\u001b[0m\u001b[0m\n\u001b[0m",
      "\u001b[0;32m~/miniconda3/envs/mas_thesis/lib/python3.7/site-packages/allennlp/data/image_loader.py\u001b[0m in \u001b[0;36m<module>\u001b[0;34m\u001b[0m\n\u001b[1;32m      4\u001b[0m \u001b[0;34m\u001b[0m\u001b[0m\n\u001b[1;32m      5\u001b[0m \u001b[0;32mimport\u001b[0m \u001b[0mtorch\u001b[0m\u001b[0;34m\u001b[0m\u001b[0;34m\u001b[0m\u001b[0m\n\u001b[0;32m----> 6\u001b[0;31m \u001b[0;32mimport\u001b[0m \u001b[0mtorchvision\u001b[0m\u001b[0;34m\u001b[0m\u001b[0;34m\u001b[0m\u001b[0m\n\u001b[0m\u001b[1;32m      7\u001b[0m \u001b[0;32mfrom\u001b[0m \u001b[0mtorch\u001b[0m \u001b[0;32mimport\u001b[0m \u001b[0mFloatTensor\u001b[0m\u001b[0;34m,\u001b[0m \u001b[0mIntTensor\u001b[0m\u001b[0;34m\u001b[0m\u001b[0;34m\u001b[0m\u001b[0m\n\u001b[1;32m      8\u001b[0m \u001b[0;34m\u001b[0m\u001b[0m\n",
      "\u001b[0;32m~/miniconda3/envs/mas_thesis/lib/python3.7/site-packages/torchvision/__init__.py\u001b[0m in \u001b[0;36m<module>\u001b[0;34m\u001b[0m\n\u001b[1;32m      5\u001b[0m \u001b[0;32mfrom\u001b[0m \u001b[0mtorchvision\u001b[0m \u001b[0;32mimport\u001b[0m \u001b[0mdatasets\u001b[0m\u001b[0;34m\u001b[0m\u001b[0;34m\u001b[0m\u001b[0m\n\u001b[1;32m      6\u001b[0m \u001b[0;32mfrom\u001b[0m \u001b[0mtorchvision\u001b[0m \u001b[0;32mimport\u001b[0m \u001b[0mio\u001b[0m\u001b[0;34m\u001b[0m\u001b[0;34m\u001b[0m\u001b[0m\n\u001b[0;32m----> 7\u001b[0;31m \u001b[0;32mfrom\u001b[0m \u001b[0mtorchvision\u001b[0m \u001b[0;32mimport\u001b[0m \u001b[0mmodels\u001b[0m\u001b[0;34m\u001b[0m\u001b[0;34m\u001b[0m\u001b[0m\n\u001b[0m\u001b[1;32m      8\u001b[0m \u001b[0;32mfrom\u001b[0m \u001b[0mtorchvision\u001b[0m \u001b[0;32mimport\u001b[0m \u001b[0mops\u001b[0m\u001b[0;34m\u001b[0m\u001b[0;34m\u001b[0m\u001b[0m\n\u001b[1;32m      9\u001b[0m \u001b[0;32mfrom\u001b[0m \u001b[0mtorchvision\u001b[0m \u001b[0;32mimport\u001b[0m \u001b[0mtransforms\u001b[0m\u001b[0;34m\u001b[0m\u001b[0;34m\u001b[0m\u001b[0m\n",
      "\u001b[0;32m~/miniconda3/envs/mas_thesis/lib/python3.7/site-packages/torchvision/models/__init__.py\u001b[0m in \u001b[0;36m<module>\u001b[0;34m\u001b[0m\n\u001b[1;32m     16\u001b[0m \u001b[0;32mfrom\u001b[0m \u001b[0;34m.\u001b[0m \u001b[0;32mimport\u001b[0m \u001b[0mdetection\u001b[0m\u001b[0;34m\u001b[0m\u001b[0;34m\u001b[0m\u001b[0m\n\u001b[1;32m     17\u001b[0m \u001b[0;32mfrom\u001b[0m \u001b[0;34m.\u001b[0m \u001b[0;32mimport\u001b[0m \u001b[0moptical_flow\u001b[0m\u001b[0;34m\u001b[0m\u001b[0;34m\u001b[0m\u001b[0m\n\u001b[0;32m---> 18\u001b[0;31m \u001b[0;32mfrom\u001b[0m \u001b[0;34m.\u001b[0m \u001b[0;32mimport\u001b[0m \u001b[0mquantization\u001b[0m\u001b[0;34m\u001b[0m\u001b[0;34m\u001b[0m\u001b[0m\n\u001b[0m\u001b[1;32m     19\u001b[0m \u001b[0;32mfrom\u001b[0m \u001b[0;34m.\u001b[0m \u001b[0;32mimport\u001b[0m \u001b[0msegmentation\u001b[0m\u001b[0;34m\u001b[0m\u001b[0;34m\u001b[0m\u001b[0m\n\u001b[1;32m     20\u001b[0m \u001b[0;32mfrom\u001b[0m \u001b[0;34m.\u001b[0m \u001b[0;32mimport\u001b[0m \u001b[0mvideo\u001b[0m\u001b[0;34m\u001b[0m\u001b[0;34m\u001b[0m\u001b[0m\n",
      "\u001b[0;32m~/miniconda3/envs/mas_thesis/lib/python3.7/site-packages/torchvision/models/quantization/__init__.py\u001b[0m in \u001b[0;36m<module>\u001b[0;34m\u001b[0m\n\u001b[1;32m      1\u001b[0m \u001b[0;32mfrom\u001b[0m \u001b[0;34m.\u001b[0m\u001b[0mgooglenet\u001b[0m \u001b[0;32mimport\u001b[0m \u001b[0;34m*\u001b[0m\u001b[0;34m\u001b[0m\u001b[0;34m\u001b[0m\u001b[0m\n\u001b[1;32m      2\u001b[0m \u001b[0;32mfrom\u001b[0m \u001b[0;34m.\u001b[0m\u001b[0minception\u001b[0m \u001b[0;32mimport\u001b[0m \u001b[0;34m*\u001b[0m\u001b[0;34m\u001b[0m\u001b[0;34m\u001b[0m\u001b[0m\n\u001b[0;32m----> 3\u001b[0;31m \u001b[0;32mfrom\u001b[0m \u001b[0;34m.\u001b[0m\u001b[0mmobilenet\u001b[0m \u001b[0;32mimport\u001b[0m \u001b[0;34m*\u001b[0m\u001b[0;34m\u001b[0m\u001b[0;34m\u001b[0m\u001b[0m\n\u001b[0m\u001b[1;32m      4\u001b[0m \u001b[0;32mfrom\u001b[0m \u001b[0;34m.\u001b[0m\u001b[0mresnet\u001b[0m \u001b[0;32mimport\u001b[0m \u001b[0;34m*\u001b[0m\u001b[0;34m\u001b[0m\u001b[0;34m\u001b[0m\u001b[0m\n\u001b[1;32m      5\u001b[0m \u001b[0;32mfrom\u001b[0m \u001b[0;34m.\u001b[0m\u001b[0mshufflenetv2\u001b[0m \u001b[0;32mimport\u001b[0m \u001b[0;34m*\u001b[0m\u001b[0;34m\u001b[0m\u001b[0;34m\u001b[0m\u001b[0m\n",
      "\u001b[0;32m~/miniconda3/envs/mas_thesis/lib/python3.7/site-packages/torchvision/models/quantization/mobilenet.py\u001b[0m in \u001b[0;36m<module>\u001b[0;34m\u001b[0m\n\u001b[0;32m----> 1\u001b[0;31m \u001b[0;32mfrom\u001b[0m \u001b[0;34m.\u001b[0m\u001b[0mmobilenetv2\u001b[0m \u001b[0;32mimport\u001b[0m \u001b[0;34m*\u001b[0m  \u001b[0;31m# noqa: F401, F403\u001b[0m\u001b[0;34m\u001b[0m\u001b[0;34m\u001b[0m\u001b[0m\n\u001b[0m\u001b[1;32m      2\u001b[0m \u001b[0;32mfrom\u001b[0m \u001b[0;34m.\u001b[0m\u001b[0mmobilenetv3\u001b[0m \u001b[0;32mimport\u001b[0m \u001b[0;34m*\u001b[0m  \u001b[0;31m# noqa: F401, F403\u001b[0m\u001b[0;34m\u001b[0m\u001b[0;34m\u001b[0m\u001b[0m\n\u001b[1;32m      3\u001b[0m \u001b[0;32mfrom\u001b[0m \u001b[0;34m.\u001b[0m\u001b[0mmobilenetv2\u001b[0m \u001b[0;32mimport\u001b[0m \u001b[0m__all__\u001b[0m \u001b[0;32mas\u001b[0m \u001b[0mmv2_all\u001b[0m\u001b[0;34m\u001b[0m\u001b[0;34m\u001b[0m\u001b[0m\n\u001b[1;32m      4\u001b[0m \u001b[0;32mfrom\u001b[0m \u001b[0;34m.\u001b[0m\u001b[0mmobilenetv3\u001b[0m \u001b[0;32mimport\u001b[0m \u001b[0m__all__\u001b[0m \u001b[0;32mas\u001b[0m \u001b[0mmv3_all\u001b[0m\u001b[0;34m\u001b[0m\u001b[0;34m\u001b[0m\u001b[0m\n\u001b[1;32m      5\u001b[0m \u001b[0;34m\u001b[0m\u001b[0m\n",
      "\u001b[0;32m~/miniconda3/envs/mas_thesis/lib/python3.7/site-packages/torchvision/models/quantization/mobilenetv2.py\u001b[0m in \u001b[0;36m<module>\u001b[0;34m\u001b[0m\n\u001b[1;32m      4\u001b[0m \u001b[0;32mfrom\u001b[0m \u001b[0mtorch\u001b[0m \u001b[0;32mimport\u001b[0m \u001b[0mTensor\u001b[0m\u001b[0;34m\u001b[0m\u001b[0;34m\u001b[0m\u001b[0m\n\u001b[1;32m      5\u001b[0m \u001b[0;32mfrom\u001b[0m \u001b[0mtorch\u001b[0m \u001b[0;32mimport\u001b[0m \u001b[0mnn\u001b[0m\u001b[0;34m\u001b[0m\u001b[0;34m\u001b[0m\u001b[0m\n\u001b[0;32m----> 6\u001b[0;31m \u001b[0;32mfrom\u001b[0m \u001b[0mtorch\u001b[0m\u001b[0;34m.\u001b[0m\u001b[0mao\u001b[0m\u001b[0;34m.\u001b[0m\u001b[0mquantization\u001b[0m \u001b[0;32mimport\u001b[0m \u001b[0mQuantStub\u001b[0m\u001b[0;34m,\u001b[0m \u001b[0mDeQuantStub\u001b[0m\u001b[0;34m\u001b[0m\u001b[0;34m\u001b[0m\u001b[0m\n\u001b[0m\u001b[1;32m      7\u001b[0m \u001b[0;32mfrom\u001b[0m \u001b[0mtorchvision\u001b[0m\u001b[0;34m.\u001b[0m\u001b[0mmodels\u001b[0m\u001b[0;34m.\u001b[0m\u001b[0mmobilenetv2\u001b[0m \u001b[0;32mimport\u001b[0m \u001b[0mInvertedResidual\u001b[0m\u001b[0;34m,\u001b[0m \u001b[0mMobileNetV2\u001b[0m\u001b[0;34m,\u001b[0m \u001b[0mMobileNet_V2_Weights\u001b[0m\u001b[0;34m\u001b[0m\u001b[0;34m\u001b[0m\u001b[0m\n\u001b[1;32m      8\u001b[0m \u001b[0;34m\u001b[0m\u001b[0m\n",
      "\u001b[0;31mImportError\u001b[0m: cannot import name 'QuantStub' from 'torch.ao.quantization' (/Users/shim-kojio/miniconda3/envs/mas_thesis/lib/python3.7/site-packages/torch/ao/quantization/__init__.py)"
     ]
    }
   ],
   "source": [
    "from relatio.utils import load_entities\n",
    "known_entities = load_entities('entities.pkl')\n",
    "top_known_entities = [e[0] for e in list(known_entities.most_common(100)) if e[0] != '']\n",
    "\n",
    "from relatio.utils import load_roles\n",
    "postproc_roles = load_roles('postproc_roles.json')"
   ]
  },
  {
   "cell_type": "code",
   "execution_count": null,
   "metadata": {},
   "outputs": [
    {
     "name": "stdout",
     "output_type": "stream",
     "text": [
      "Matching known entities (with character matching)...\n"
     ]
    },
    {
     "name": "stderr",
     "output_type": "stream",
     "text": [
      "100%|██████████| 8997/8997 [00:00<00:00, 17864.27it/s]\n"
     ]
    },
    {
     "name": "stdout",
     "output_type": "stream",
     "text": [
      "Matching known entities (with character matching)...\n"
     ]
    },
    {
     "name": "stderr",
     "output_type": "stream",
     "text": [
      "100%|██████████| 29027/29027 [00:01<00:00, 17641.10it/s]\n"
     ]
    },
    {
     "name": "stdout",
     "output_type": "stream",
     "text": [
      "Matching known entities (with character matching)...\n"
     ]
    },
    {
     "name": "stderr",
     "output_type": "stream",
     "text": [
      "100%|██████████| 15879/15879 [00:00<00:00, 16667.75it/s]\n"
     ]
    },
    {
     "name": "stdout",
     "output_type": "stream",
     "text": [
      "Computing phrase embeddings...\n"
     ]
    },
    {
     "name": "stderr",
     "output_type": "stream",
     "text": [
      "100%|██████████| 34624/34624 [02:03<00:00, 279.77it/s]\n"
     ]
    },
    {
     "name": "stdout",
     "output_type": "stream",
     "text": [
      "Dimension reduction via PCA...\n",
      "PCA parameters:\n",
      "{'n_components': 50, 'svd_solver': 'full'}\n",
      "Dimension reduction via UMAP...\n",
      "UMAP parameters:\n",
      "{'n_neighbors': 15, 'n_components': 2, 'random_state': 0}\n",
      "Clustering phrases into clusters...\n"
     ]
    }
   ],
   "source": [
    "from relatio.narrative_models import NarrativeModel\n",
    "\n",
    "m = NarrativeModel(\n",
    "    clustering = 'hdbscan',\n",
    "    PCA = True,\n",
    "    UMAP = True,\n",
    "    roles_considered = ['ARG0', 'B-V', 'B-ARGM-NEG', 'ARG1', 'ARG2'],\n",
    "    roles_with_known_entities = ['ARG0','ARG1','ARG2'],\n",
    "    known_entities = top_known_entities,\n",
    "    assignment_to_known_entities = 'character_matching',\n",
    "    roles_with_unknown_entities = ['ARG0','ARG1','ARG2'],\n",
    "    threshold = 0.3,\n",
    "    # embeddings_model='multilingual_BERT'\n",
    ")    \n",
    "             \n",
    "m.fit(postproc_roles, progress_bar = True) "
   ]
  },
  {
   "cell_type": "code",
   "execution_count": null,
   "metadata": {},
   "outputs": [
    {
     "ename": "ValueError",
     "evalue": "x and y must have same first dimension, but have shapes (4,) and (3,)",
     "output_type": "error",
     "traceback": [
      "\u001b[0;31m---------------------------------------------------------------------------\u001b[0m",
      "\u001b[0;31mValueError\u001b[0m                                Traceback (most recent call last)",
      "\u001b[0;32m/var/folders/30/20s46n1s20jdzzh6w9vnkglw0000gn/T/ipykernel_10533/1620898437.py\u001b[0m in \u001b[0;36m<module>\u001b[0;34m\u001b[0m\n\u001b[0;32m----> 1\u001b[0;31m \u001b[0mm\u001b[0m\u001b[0;34m.\u001b[0m\u001b[0mplot_selection_metric\u001b[0m\u001b[0;34m(\u001b[0m\u001b[0;34m)\u001b[0m\u001b[0;34m\u001b[0m\u001b[0;34m\u001b[0m\u001b[0m\n\u001b[0m",
      "\u001b[0;32m~/Desktop/relatio/relatio/narrative_models.py\u001b[0m in \u001b[0;36mplot_selection_metric\u001b[0;34m(self, path, figsize)\u001b[0m\n\u001b[1;32m    513\u001b[0m                     \u001b[0;34m\"approx_min_span_tree:{}\"\u001b[0m\u001b[0;34m.\u001b[0m\u001b[0mformat\u001b[0m\u001b[0;34m(\u001b[0m\u001b[0mself\u001b[0m\u001b[0;34m.\u001b[0m\u001b[0mcluster_args\u001b[0m\u001b[0;34m[\u001b[0m\u001b[0;34m\"approx_min_span_tree\"\u001b[0m\u001b[0;34m]\u001b[0m\u001b[0;34m)\u001b[0m\u001b[0;34m,\u001b[0m\u001b[0;34m\u001b[0m\u001b[0;34m\u001b[0m\u001b[0m\n\u001b[1;32m    514\u001b[0m                     \u001b[0;34m\"prediction_data:{}\"\u001b[0m\u001b[0;34m.\u001b[0m\u001b[0mformat\u001b[0m\u001b[0;34m(\u001b[0m\u001b[0mself\u001b[0m\u001b[0;34m.\u001b[0m\u001b[0mcluster_args\u001b[0m\u001b[0;34m[\u001b[0m\u001b[0;34m\"prediction_data\"\u001b[0m\u001b[0;34m]\u001b[0m\u001b[0;34m)\u001b[0m\u001b[0;34m,\u001b[0m\u001b[0;34m\u001b[0m\u001b[0;34m\u001b[0m\u001b[0m\n\u001b[0;32m--> 515\u001b[0;31m                 )\n\u001b[0m\u001b[1;32m    516\u001b[0m             )\n\u001b[1;32m    517\u001b[0m             \u001b[0mplt\u001b[0m\u001b[0;34m.\u001b[0m\u001b[0mfigure\u001b[0m\u001b[0;34m(\u001b[0m\u001b[0mfigsize\u001b[0m\u001b[0;34m=\u001b[0m\u001b[0mfigsize\u001b[0m\u001b[0;34m)\u001b[0m\u001b[0;34m\u001b[0m\u001b[0;34m\u001b[0m\u001b[0m\n",
      "\u001b[0;32m~/miniconda3/envs/mas_thesis/lib/python3.7/site-packages/matplotlib/pyplot.py\u001b[0m in \u001b[0;36mplot\u001b[0;34m(scalex, scaley, data, *args, **kwargs)\u001b[0m\n\u001b[1;32m   2769\u001b[0m     return gca().plot(\n\u001b[1;32m   2770\u001b[0m         \u001b[0;34m*\u001b[0m\u001b[0margs\u001b[0m\u001b[0;34m,\u001b[0m \u001b[0mscalex\u001b[0m\u001b[0;34m=\u001b[0m\u001b[0mscalex\u001b[0m\u001b[0;34m,\u001b[0m \u001b[0mscaley\u001b[0m\u001b[0;34m=\u001b[0m\u001b[0mscaley\u001b[0m\u001b[0;34m,\u001b[0m\u001b[0;34m\u001b[0m\u001b[0;34m\u001b[0m\u001b[0m\n\u001b[0;32m-> 2771\u001b[0;31m         **({\"data\": data} if data is not None else {}), **kwargs)\n\u001b[0m\u001b[1;32m   2772\u001b[0m \u001b[0;34m\u001b[0m\u001b[0m\n\u001b[1;32m   2773\u001b[0m \u001b[0;34m\u001b[0m\u001b[0m\n",
      "\u001b[0;32m~/miniconda3/envs/mas_thesis/lib/python3.7/site-packages/matplotlib/axes/_axes.py\u001b[0m in \u001b[0;36mplot\u001b[0;34m(self, scalex, scaley, data, *args, **kwargs)\u001b[0m\n\u001b[1;32m   1630\u001b[0m         \"\"\"\n\u001b[1;32m   1631\u001b[0m         \u001b[0mkwargs\u001b[0m \u001b[0;34m=\u001b[0m \u001b[0mcbook\u001b[0m\u001b[0;34m.\u001b[0m\u001b[0mnormalize_kwargs\u001b[0m\u001b[0;34m(\u001b[0m\u001b[0mkwargs\u001b[0m\u001b[0;34m,\u001b[0m \u001b[0mmlines\u001b[0m\u001b[0;34m.\u001b[0m\u001b[0mLine2D\u001b[0m\u001b[0;34m)\u001b[0m\u001b[0;34m\u001b[0m\u001b[0;34m\u001b[0m\u001b[0m\n\u001b[0;32m-> 1632\u001b[0;31m         \u001b[0mlines\u001b[0m \u001b[0;34m=\u001b[0m \u001b[0;34m[\u001b[0m\u001b[0;34m*\u001b[0m\u001b[0mself\u001b[0m\u001b[0;34m.\u001b[0m\u001b[0m_get_lines\u001b[0m\u001b[0;34m(\u001b[0m\u001b[0;34m*\u001b[0m\u001b[0margs\u001b[0m\u001b[0;34m,\u001b[0m \u001b[0mdata\u001b[0m\u001b[0;34m=\u001b[0m\u001b[0mdata\u001b[0m\u001b[0;34m,\u001b[0m \u001b[0;34m**\u001b[0m\u001b[0mkwargs\u001b[0m\u001b[0;34m)\u001b[0m\u001b[0;34m]\u001b[0m\u001b[0;34m\u001b[0m\u001b[0;34m\u001b[0m\u001b[0m\n\u001b[0m\u001b[1;32m   1633\u001b[0m         \u001b[0;32mfor\u001b[0m \u001b[0mline\u001b[0m \u001b[0;32min\u001b[0m \u001b[0mlines\u001b[0m\u001b[0;34m:\u001b[0m\u001b[0;34m\u001b[0m\u001b[0;34m\u001b[0m\u001b[0m\n\u001b[1;32m   1634\u001b[0m             \u001b[0mself\u001b[0m\u001b[0;34m.\u001b[0m\u001b[0madd_line\u001b[0m\u001b[0;34m(\u001b[0m\u001b[0mline\u001b[0m\u001b[0;34m)\u001b[0m\u001b[0;34m\u001b[0m\u001b[0;34m\u001b[0m\u001b[0m\n",
      "\u001b[0;32m~/miniconda3/envs/mas_thesis/lib/python3.7/site-packages/matplotlib/axes/_base.py\u001b[0m in \u001b[0;36m__call__\u001b[0;34m(self, data, *args, **kwargs)\u001b[0m\n\u001b[1;32m    310\u001b[0m                 \u001b[0mthis\u001b[0m \u001b[0;34m+=\u001b[0m \u001b[0margs\u001b[0m\u001b[0;34m[\u001b[0m\u001b[0;36m0\u001b[0m\u001b[0;34m]\u001b[0m\u001b[0;34m,\u001b[0m\u001b[0;34m\u001b[0m\u001b[0;34m\u001b[0m\u001b[0m\n\u001b[1;32m    311\u001b[0m                 \u001b[0margs\u001b[0m \u001b[0;34m=\u001b[0m \u001b[0margs\u001b[0m\u001b[0;34m[\u001b[0m\u001b[0;36m1\u001b[0m\u001b[0;34m:\u001b[0m\u001b[0;34m]\u001b[0m\u001b[0;34m\u001b[0m\u001b[0;34m\u001b[0m\u001b[0m\n\u001b[0;32m--> 312\u001b[0;31m             \u001b[0;32myield\u001b[0m \u001b[0;32mfrom\u001b[0m \u001b[0mself\u001b[0m\u001b[0;34m.\u001b[0m\u001b[0m_plot_args\u001b[0m\u001b[0;34m(\u001b[0m\u001b[0mthis\u001b[0m\u001b[0;34m,\u001b[0m \u001b[0mkwargs\u001b[0m\u001b[0;34m)\u001b[0m\u001b[0;34m\u001b[0m\u001b[0;34m\u001b[0m\u001b[0m\n\u001b[0m\u001b[1;32m    313\u001b[0m \u001b[0;34m\u001b[0m\u001b[0m\n\u001b[1;32m    314\u001b[0m     \u001b[0;32mdef\u001b[0m \u001b[0mget_next_color\u001b[0m\u001b[0;34m(\u001b[0m\u001b[0mself\u001b[0m\u001b[0;34m)\u001b[0m\u001b[0;34m:\u001b[0m\u001b[0;34m\u001b[0m\u001b[0;34m\u001b[0m\u001b[0m\n",
      "\u001b[0;32m~/miniconda3/envs/mas_thesis/lib/python3.7/site-packages/matplotlib/axes/_base.py\u001b[0m in \u001b[0;36m_plot_args\u001b[0;34m(self, tup, kwargs, return_kwargs)\u001b[0m\n\u001b[1;32m    496\u001b[0m \u001b[0;34m\u001b[0m\u001b[0m\n\u001b[1;32m    497\u001b[0m         \u001b[0;32mif\u001b[0m \u001b[0mx\u001b[0m\u001b[0;34m.\u001b[0m\u001b[0mshape\u001b[0m\u001b[0;34m[\u001b[0m\u001b[0;36m0\u001b[0m\u001b[0;34m]\u001b[0m \u001b[0;34m!=\u001b[0m \u001b[0my\u001b[0m\u001b[0;34m.\u001b[0m\u001b[0mshape\u001b[0m\u001b[0;34m[\u001b[0m\u001b[0;36m0\u001b[0m\u001b[0;34m]\u001b[0m\u001b[0;34m:\u001b[0m\u001b[0;34m\u001b[0m\u001b[0;34m\u001b[0m\u001b[0m\n\u001b[0;32m--> 498\u001b[0;31m             raise ValueError(f\"x and y must have same first dimension, but \"\n\u001b[0m\u001b[1;32m    499\u001b[0m                              f\"have shapes {x.shape} and {y.shape}\")\n\u001b[1;32m    500\u001b[0m         \u001b[0;32mif\u001b[0m \u001b[0mx\u001b[0m\u001b[0;34m.\u001b[0m\u001b[0mndim\u001b[0m \u001b[0;34m>\u001b[0m \u001b[0;36m2\u001b[0m \u001b[0;32mor\u001b[0m \u001b[0my\u001b[0m\u001b[0;34m.\u001b[0m\u001b[0mndim\u001b[0m \u001b[0;34m>\u001b[0m \u001b[0;36m2\u001b[0m\u001b[0;34m:\u001b[0m\u001b[0;34m\u001b[0m\u001b[0;34m\u001b[0m\u001b[0m\n",
      "\u001b[0;31mValueError\u001b[0m: x and y must have same first dimension, but have shapes (4,) and (3,)"
     ]
    },
    {
     "data": {
      "image/png": "[encoded data removed]",
      "text/plain": [
       "<Figure size 1400x800 with 1 Axes>"
      ]
     },
     "metadata": {},
     "output_type": "display_data"
    }
   ],
   "source": [
    "m.plot_selection_metric()"
   ]
  },
  {
   "cell_type": "code",
   "execution_count": null,
   "metadata": {},
   "outputs": [],
   "source": []
  },
  {
   "cell_type": "code",
   "execution_count": null,
   "metadata": {},
   "outputs": [],
   "source": []
  },
  {
   "cell_type": "code",
   "execution_count": 14,
   "metadata": {},
   "outputs": [],
   "source": [
    "# !python3.7 -m pip uninstall umap -y\n",
    "!python3.7 -m pip uninstall umap-learn -y\n",
    "!python3.7 -m pip install umap-learn==0.5.2\n",
    "\n",
    "from umap.umap_ import UMAP"
   ]
  }
 ],
 "metadata": {
  "kernelspec": {
   "display_name": "Python 3",
   "language": "python",
   "name": "python3"
  },
  "language_info": {
   "codemirror_mode": {
    "name": "ipython",
    "version": 3
   },
   "file_extension": ".py",
   "mimetype": "text/x-python",
   "name": "python",
   "nbconvert_exporter": "python",
   "pygments_lexer": "ipython3",
   "version": "3.9.13"
  },
  "orig_nbformat": 4,
  "vscode": {
   "interpreter": {
    "hash": "0f5bf9c2c7038cd9b8441c0af33cbf6c75d44f21486ac7215e2f98228673b6fa"
   }
  }
 },
 "nbformat": 4,
 "nbformat_minor": 2
}
